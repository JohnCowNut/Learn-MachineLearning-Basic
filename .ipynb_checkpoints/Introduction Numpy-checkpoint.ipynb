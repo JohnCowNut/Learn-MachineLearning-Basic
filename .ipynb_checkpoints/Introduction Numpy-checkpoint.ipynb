{
 "cells": [
  {
   "cell_type": "code",
   "execution_count": 3,
   "id": "looking-championship",
   "metadata": {},
   "outputs": [],
   "source": [
    "import numpy as np"
   ]
  },
  {
   "cell_type": "markdown",
   "id": "excessive-plaza",
   "metadata": {},
   "source": [
    "## Data Types & Attributes"
   ]
  },
  {
   "cell_type": "code",
   "execution_count": 4,
   "id": "adopted-surveillance",
   "metadata": {},
   "outputs": [
    {
     "data": {
      "text/plain": [
       "array([1, 2, 3])"
      ]
     },
     "execution_count": 4,
     "metadata": {},
     "output_type": "execute_result"
    }
   ],
   "source": [
    "#NumPy's main datatype is ndarray // stand for n dimentional array\n",
    "a1 = np.array([1,2,3])\n",
    "a1"
   ]
  },
  {
   "cell_type": "code",
   "execution_count": 5,
   "id": "pediatric-villa",
   "metadata": {},
   "outputs": [
    {
     "data": {
      "text/plain": [
       "dtype('int64')"
      ]
     },
     "execution_count": 5,
     "metadata": {},
     "output_type": "execute_result"
    }
   ],
   "source": [
    "type(a1)\n",
    "a1.dtype"
   ]
  },
  {
   "cell_type": "code",
   "execution_count": 7,
   "id": "lovely-professor",
   "metadata": {},
   "outputs": [],
   "source": [
    "a2 = np.array([[1,2,3],[4,5,6],[7,8,9]])"
   ]
  },
  {
   "cell_type": "code",
   "execution_count": 8,
   "id": "christian-blond",
   "metadata": {},
   "outputs": [
    {
     "data": {
      "text/plain": [
       "array([[1, 2, 3],\n",
       "       [4, 5, 6],\n",
       "       [7, 8, 9]])"
      ]
     },
     "execution_count": 8,
     "metadata": {},
     "output_type": "execute_result"
    }
   ],
   "source": [
    "a2"
   ]
  },
  {
   "cell_type": "code",
   "execution_count": 9,
   "id": "focused-currency",
   "metadata": {},
   "outputs": [
    {
     "data": {
      "text/plain": [
       "(3,)"
      ]
     },
     "execution_count": 9,
     "metadata": {},
     "output_type": "execute_result"
    }
   ],
   "source": [
    "#Attributes\n",
    "a1.shape"
   ]
  },
  {
   "cell_type": "code",
   "execution_count": 8,
   "id": "celtic-actor",
   "metadata": {},
   "outputs": [
    {
     "data": {
      "text/plain": [
       "(3, 3)"
      ]
     },
     "execution_count": 8,
     "metadata": {},
     "output_type": "execute_result"
    }
   ],
   "source": [
    "a2.shape"
   ]
  },
  {
   "cell_type": "code",
   "execution_count": 9,
   "id": "crude-british",
   "metadata": {},
   "outputs": [
    {
     "data": {
      "text/plain": [
       "2"
      ]
     },
     "execution_count": 9,
     "metadata": {},
     "output_type": "execute_result"
    }
   ],
   "source": [
    "a2.ndim"
   ]
  },
  {
   "cell_type": "code",
   "execution_count": 21,
   "id": "usual-windsor",
   "metadata": {},
   "outputs": [
    {
     "data": {
      "text/html": [
       "<div>\n",
       "<style scoped>\n",
       "    .dataframe tbody tr th:only-of-type {\n",
       "        vertical-align: middle;\n",
       "    }\n",
       "\n",
       "    .dataframe tbody tr th {\n",
       "        vertical-align: top;\n",
       "    }\n",
       "\n",
       "    .dataframe thead th {\n",
       "        text-align: right;\n",
       "    }\n",
       "</style>\n",
       "<table border=\"1\" class=\"dataframe\">\n",
       "  <thead>\n",
       "    <tr style=\"text-align: right;\">\n",
       "      <th></th>\n",
       "      <th>0</th>\n",
       "      <th>1</th>\n",
       "      <th>2</th>\n",
       "    </tr>\n",
       "  </thead>\n",
       "  <tbody>\n",
       "    <tr>\n",
       "      <th>0</th>\n",
       "      <td>1.0</td>\n",
       "      <td>2.0</td>\n",
       "      <td>3.3</td>\n",
       "    </tr>\n",
       "    <tr>\n",
       "      <th>1</th>\n",
       "      <td>4.0</td>\n",
       "      <td>5.0</td>\n",
       "      <td>6.0</td>\n",
       "    </tr>\n",
       "  </tbody>\n",
       "</table>\n",
       "</div>"
      ],
      "text/plain": [
       "     0    1    2\n",
       "0  1.0  2.0  3.3\n",
       "1  4.0  5.0  6.0"
      ]
     },
     "execution_count": 21,
     "metadata": {},
     "output_type": "execute_result"
    }
   ],
   "source": [
    "# create data frame from NumPy array\n",
    "import pandas as pd\n",
    "df = pd.DataFrame(a2)\n",
    "df"
   ]
  },
  {
   "cell_type": "code",
   "execution_count": 22,
   "id": "exceptional-deadline",
   "metadata": {},
   "outputs": [
    {
     "data": {
      "text/plain": [
       "array([[[ 1,  2,  3],\n",
       "        [ 4,  5,  6]],\n",
       "\n",
       "       [[ 7,  8,  9],\n",
       "        [10, 11, 12]],\n",
       "\n",
       "       [[13, 14, 15],\n",
       "        [16, 17, 18]]])"
      ]
     },
     "execution_count": 22,
     "metadata": {},
     "output_type": "execute_result"
    }
   ],
   "source": [
    "a3 = np.array([[[1, 2, 3],\n",
    "                [4, 5, 6]],\n",
    "               [[7, 8, 9],\n",
    "                [10, 11, 12]],\n",
    "               [[13, 14, 15],\n",
    "                [16, 17, 18]]])\n",
    "d3= pd.DataFrame(a2)\n",
    "a3"
   ]
  },
  {
   "cell_type": "markdown",
   "id": "russian-click",
   "metadata": {},
   "source": [
    "## Create Array "
   ]
  },
  {
   "cell_type": "code",
   "execution_count": 16,
   "id": "sporting-beverage",
   "metadata": {},
   "outputs": [
    {
     "data": {
      "text/plain": [
       "dtype('int64')"
      ]
     },
     "execution_count": 16,
     "metadata": {},
     "output_type": "execute_result"
    }
   ],
   "source": [
    "sample_array = np.array([1,2,3])\n",
    "sample_array.dtype"
   ]
  },
  {
   "cell_type": "code",
   "execution_count": 17,
   "id": "optional-massachusetts",
   "metadata": {},
   "outputs": [
    {
     "data": {
      "text/plain": [
       "array([[1., 1., 1.],\n",
       "       [1., 1., 1.]])"
      ]
     },
     "execution_count": 17,
     "metadata": {},
     "output_type": "execute_result"
    }
   ],
   "source": [
    "ones = np.ones((2,3))\n",
    "ones"
   ]
  },
  {
   "cell_type": "code",
   "execution_count": 18,
   "id": "prerequisite-visiting",
   "metadata": {},
   "outputs": [
    {
     "data": {
      "text/plain": [
       "array([[0., 0., 0.],\n",
       "       [0., 0., 0.]])"
      ]
     },
     "execution_count": 18,
     "metadata": {},
     "output_type": "execute_result"
    }
   ],
   "source": [
    "zeroes = np.zeros((2,3))\n",
    "zeroes"
   ]
  },
  {
   "cell_type": "code",
   "execution_count": 19,
   "id": "brilliant-selection",
   "metadata": {},
   "outputs": [],
   "source": [
    "range_array = np.arange(1,10)"
   ]
  },
  {
   "cell_type": "code",
   "execution_count": 20,
   "id": "scientific-windsor",
   "metadata": {},
   "outputs": [
    {
     "data": {
      "text/plain": [
       "array([1, 2, 3, 4, 5, 6, 7, 8, 9])"
      ]
     },
     "execution_count": 20,
     "metadata": {},
     "output_type": "execute_result"
    }
   ],
   "source": [
    "range_array"
   ]
  },
  {
   "cell_type": "code",
   "execution_count": 21,
   "id": "extra-gothic",
   "metadata": {},
   "outputs": [],
   "source": [
    "randome_array = np.random.randint(0,10,size=(2,4))"
   ]
  },
  {
   "cell_type": "code",
   "execution_count": 22,
   "id": "imposed-title",
   "metadata": {},
   "outputs": [
    {
     "data": {
      "text/plain": [
       "array([[5, 7, 0, 3],\n",
       "       [7, 8, 9, 8]])"
      ]
     },
     "execution_count": 22,
     "metadata": {},
     "output_type": "execute_result"
    }
   ],
   "source": [
    "randome_array"
   ]
  },
  {
   "cell_type": "code",
   "execution_count": 26,
   "id": "viral-document",
   "metadata": {},
   "outputs": [
    {
     "data": {
      "text/plain": [
       "array([[7, 0, 0, 7, 9],\n",
       "       [7, 0, 7, 9, 3],\n",
       "       [9, 0, 4, 7, 3]])"
      ]
     },
     "execution_count": 26,
     "metadata": {},
     "output_type": "execute_result"
    }
   ],
   "source": [
    "#Pseudo-random numbers\n",
    "#np.random.seed()\n",
    "random_array_4 = np.random.randint(10,size= (3,5))\n",
    "random_array_4"
   ]
  },
  {
   "cell_type": "code",
   "execution_count": 46,
   "id": "induced-wrong",
   "metadata": {},
   "outputs": [
    {
     "data": {
      "text/plain": [
       "array([[0.96702984, 0.54723225, 0.97268436, 0.71481599],\n",
       "       [0.69772882, 0.2160895 , 0.97627445, 0.00623026],\n",
       "       [0.25298236, 0.43479153, 0.77938292, 0.19768507],\n",
       "       [0.86299324, 0.98340068, 0.16384224, 0.59733394],\n",
       "       [0.0089861 , 0.38657128, 0.04416006, 0.95665297]])"
      ]
     },
     "execution_count": 46,
     "metadata": {},
     "output_type": "execute_result"
    }
   ],
   "source": [
    "np.random.seed(4)\n",
    "random_array_5 = np.random.random((5,4))\n",
    "random_array_5"
   ]
  },
  {
   "cell_type": "markdown",
   "id": "difficult-tribune",
   "metadata": {},
   "source": [
    " ## 3 Views ans matrics"
   ]
  },
  {
   "cell_type": "code",
   "execution_count": 48,
   "id": "composite-rebound",
   "metadata": {},
   "outputs": [
    {
     "data": {
      "text/plain": [
       "array([0, 3, 4, 7, 9])"
      ]
     },
     "execution_count": 48,
     "metadata": {},
     "output_type": "execute_result"
    }
   ],
   "source": [
    "np.unique(random_array_4)"
   ]
  },
  {
   "cell_type": "code",
   "execution_count": 49,
   "id": "possible-violin",
   "metadata": {},
   "outputs": [
    {
     "data": {
      "text/plain": [
       "array([[[[8, 1, 2, 7, 0],\n",
       "         [8, 3, 1, 0, 3],\n",
       "         [2, 3, 2, 9, 2],\n",
       "         [1, 0, 1, 9, 9]],\n",
       "\n",
       "        [[0, 7, 2, 6, 3],\n",
       "         [7, 8, 2, 6, 7],\n",
       "         [7, 9, 2, 7, 5],\n",
       "         [3, 0, 5, 4, 3]],\n",
       "\n",
       "        [[8, 9, 5, 8, 6],\n",
       "         [7, 0, 4, 6, 8],\n",
       "         [4, 8, 1, 9, 5],\n",
       "         [4, 2, 3, 4, 7]]],\n",
       "\n",
       "\n",
       "       [[[6, 6, 8, 0, 3],\n",
       "         [5, 6, 1, 1, 6],\n",
       "         [0, 8, 7, 5, 7],\n",
       "         [6, 8, 4, 4, 0]],\n",
       "\n",
       "        [[7, 2, 1, 8, 8],\n",
       "         [1, 3, 1, 3, 6],\n",
       "         [7, 4, 0, 7, 3],\n",
       "         [7, 9, 6, 6, 9]],\n",
       "\n",
       "        [[3, 2, 7, 6, 7],\n",
       "         [9, 4, 3, 0, 5],\n",
       "         [0, 9, 5, 7, 5],\n",
       "         [9, 8, 2, 4, 2]]]])"
      ]
     },
     "execution_count": 49,
     "metadata": {},
     "output_type": "execute_result"
    }
   ],
   "source": [
    "a4 = np.random.randint(10,size=(2,3,4,5))\n",
    "a4"
   ]
  },
  {
   "cell_type": "code",
   "execution_count": 50,
   "id": "muslim-upset",
   "metadata": {},
   "outputs": [
    {
     "data": {
      "text/plain": [
       "array([7, 2, 1, 8, 8])"
      ]
     },
     "execution_count": 50,
     "metadata": {},
     "output_type": "execute_result"
    }
   ],
   "source": [
    " a4[1][1][0]"
   ]
  },
  {
   "cell_type": "code",
   "execution_count": 57,
   "id": "impressive-adventure",
   "metadata": {},
   "outputs": [
    {
     "data": {
      "text/plain": [
       "array([[[[8],\n",
       "         [8],\n",
       "         [2],\n",
       "         [1]],\n",
       "\n",
       "        [[0],\n",
       "         [7],\n",
       "         [7],\n",
       "         [3]],\n",
       "\n",
       "        [[8],\n",
       "         [7],\n",
       "         [4],\n",
       "         [4]]],\n",
       "\n",
       "\n",
       "       [[[6],\n",
       "         [5],\n",
       "         [0],\n",
       "         [6]],\n",
       "\n",
       "        [[7],\n",
       "         [1],\n",
       "         [7],\n",
       "         [7]],\n",
       "\n",
       "        [[3],\n",
       "         [9],\n",
       "         [0],\n",
       "         [9]]]])"
      ]
     },
     "execution_count": 57,
     "metadata": {},
     "output_type": "execute_result"
    }
   ],
   "source": [
    "a4[:,:,:,:1]"
   ]
  },
  {
   "cell_type": "markdown",
   "id": "registered-conditions",
   "metadata": {},
   "source": [
    "## 4. Manipulating & Comparing arrays"
   ]
  },
  {
   "cell_type": "markdown",
   "id": "standing-rover",
   "metadata": {},
   "source": [
    "## Arithmetic "
   ]
  },
  {
   "cell_type": "code",
   "execution_count": 58,
   "id": "included-adjustment",
   "metadata": {},
   "outputs": [
    {
     "data": {
      "text/plain": [
       "array([1, 2, 3])"
      ]
     },
     "execution_count": 58,
     "metadata": {},
     "output_type": "execute_result"
    }
   ],
   "source": [
    "a1"
   ]
  },
  {
   "cell_type": "code",
   "execution_count": 59,
   "id": "analyzed-implement",
   "metadata": {},
   "outputs": [
    {
     "data": {
      "text/plain": [
       "array([[1., 1., 1.],\n",
       "       [1., 1., 1.]])"
      ]
     },
     "execution_count": 59,
     "metadata": {},
     "output_type": "execute_result"
    }
   ],
   "source": [
    "ones"
   ]
  },
  {
   "cell_type": "code",
   "execution_count": 60,
   "id": "documentary-slovak",
   "metadata": {},
   "outputs": [],
   "source": [
    "ones = np.ones(3)"
   ]
  },
  {
   "cell_type": "code",
   "execution_count": 61,
   "id": "covered-seafood",
   "metadata": {},
   "outputs": [
    {
     "data": {
      "text/plain": [
       "array([1., 1., 1.])"
      ]
     },
     "execution_count": 61,
     "metadata": {},
     "output_type": "execute_result"
    }
   ],
   "source": [
    "ones"
   ]
  },
  {
   "cell_type": "code",
   "execution_count": 62,
   "id": "friendly-overhead",
   "metadata": {},
   "outputs": [
    {
     "data": {
      "text/plain": [
       "array([2., 3., 4.])"
      ]
     },
     "execution_count": 62,
     "metadata": {},
     "output_type": "execute_result"
    }
   ],
   "source": [
    "a1 + ones"
   ]
  },
  {
   "cell_type": "code",
   "execution_count": 63,
   "id": "magnetic-particle",
   "metadata": {},
   "outputs": [
    {
     "data": {
      "text/plain": [
       "array([0., 1., 2.])"
      ]
     },
     "execution_count": 63,
     "metadata": {},
     "output_type": "execute_result"
    }
   ],
   "source": [
    "a1 - ones"
   ]
  },
  {
   "cell_type": "code",
   "execution_count": 64,
   "id": "sunrise-discussion",
   "metadata": {},
   "outputs": [
    {
     "data": {
      "text/plain": [
       "array([1., 2., 3.])"
      ]
     },
     "execution_count": 64,
     "metadata": {},
     "output_type": "execute_result"
    }
   ],
   "source": [
    "a1 * ones "
   ]
  },
  {
   "cell_type": "code",
   "execution_count": 65,
   "id": "unlimited-young",
   "metadata": {},
   "outputs": [
    {
     "data": {
      "text/plain": [
       "array([[1, 2, 3],\n",
       "       [4, 5, 6],\n",
       "       [7, 8, 9]])"
      ]
     },
     "execution_count": 65,
     "metadata": {},
     "output_type": "execute_result"
    }
   ],
   "source": [
    "a2"
   ]
  },
  {
   "cell_type": "code",
   "execution_count": 66,
   "id": "miniature-lancaster",
   "metadata": {},
   "outputs": [
    {
     "data": {
      "text/plain": [
       "array([[ 1,  4,  9],\n",
       "       [ 4, 10, 18],\n",
       "       [ 7, 16, 27]])"
      ]
     },
     "execution_count": 66,
     "metadata": {},
     "output_type": "execute_result"
    }
   ],
   "source": [
    " a2 * a1"
   ]
  },
  {
   "cell_type": "markdown",
   "id": "australian-automation",
   "metadata": {},
   "source": [
    "### Aggregation "
   ]
  },
  {
   "cell_type": "code",
   "execution_count": 67,
   "id": "separate-disability",
   "metadata": {},
   "outputs": [
    {
     "data": {
      "text/plain": [
       "list"
      ]
     },
     "execution_count": 67,
     "metadata": {},
     "output_type": "execute_result"
    }
   ],
   "source": [
    "listy_list = [1,2,3]\n",
    "type(listy_list )"
   ]
  },
  {
   "cell_type": "code",
   "execution_count": 68,
   "id": "permanent-times",
   "metadata": {},
   "outputs": [
    {
     "data": {
      "text/plain": [
       "6"
      ]
     },
     "execution_count": 68,
     "metadata": {},
     "output_type": "execute_result"
    }
   ],
   "source": [
    "sum(listy_list)"
   ]
  },
  {
   "cell_type": "code",
   "execution_count": 69,
   "id": "alleged-latitude",
   "metadata": {},
   "outputs": [
    {
     "data": {
      "text/plain": [
       "array([1, 2, 3])"
      ]
     },
     "execution_count": 69,
     "metadata": {},
     "output_type": "execute_result"
    }
   ],
   "source": [
    "a1"
   ]
  },
  {
   "cell_type": "code",
   "execution_count": 70,
   "id": "threatened-holder",
   "metadata": {},
   "outputs": [
    {
     "data": {
      "text/plain": [
       "6"
      ]
     },
     "execution_count": 70,
     "metadata": {},
     "output_type": "execute_result"
    }
   ],
   "source": [
    "np.sum(a1)"
   ]
  },
  {
   "cell_type": "code",
   "execution_count": 71,
   "id": "auburn-today",
   "metadata": {},
   "outputs": [
    {
     "data": {
      "text/plain": [
       "array([12, 15, 18])"
      ]
     },
     "execution_count": 71,
     "metadata": {},
     "output_type": "execute_result"
    }
   ],
   "source": [
    "sum(a2)"
   ]
  },
  {
   "cell_type": "markdown",
   "id": "italic-defensive",
   "metadata": {},
   "source": [
    " ## Use Python's methods (`sum()`) on Python data types and use \n",
    "  ## NumPy's methods on NumPy Array (`np.sum()`)"
   ]
  },
  {
   "cell_type": "code",
   "execution_count": 73,
   "id": "fourth-commander",
   "metadata": {},
   "outputs": [
    {
     "data": {
      "text/plain": [
       "10000"
      ]
     },
     "execution_count": 73,
     "metadata": {},
     "output_type": "execute_result"
    }
   ],
   "source": [
    "# Createive a massive NumPy array\n",
    "massive_array = np.random.random(10000)\n",
    "massive_array.size"
   ]
  },
  {
   "cell_type": "code",
   "execution_count": 74,
   "id": "diverse-witch",
   "metadata": {},
   "outputs": [
    {
     "data": {
      "text/plain": [
       "array([0.49784613, 0.78561687, 0.20839985, 0.72628548, 0.37256051,\n",
       "       0.44731153, 0.75244081, 0.87884121, 0.02702982, 0.86447822,\n",
       "       0.94587253, 0.86808477, 0.77438912, 0.85506038, 0.50605936,\n",
       "       0.36621555, 0.90753108, 0.68957246, 0.64984412, 0.39954652,\n",
       "       0.8656851 , 0.46384459, 0.70137039, 0.76101644, 0.96384613,\n",
       "       0.87274136, 0.88901454, 0.36857257, 0.94404683, 0.83446273,\n",
       "       0.40860712, 0.67507917, 0.2736875 , 0.98307718, 0.05734734,\n",
       "       0.94529542, 0.15594351, 0.84593216, 0.36788445, 0.18682867,\n",
       "       0.30988905, 0.76919737, 0.61488057, 0.71148611, 0.64175974,\n",
       "       0.05019156, 0.78374802, 0.81514901, 0.38907812, 0.74974373,\n",
       "       0.55237266, 0.46209655, 0.92563098, 0.47682031, 0.00987909,\n",
       "       0.5900535 , 0.35679441, 0.04552355, 0.88193515, 0.89111067,\n",
       "       0.61110779, 0.98549158, 0.21553073, 0.4280724 , 0.55342881,\n",
       "       0.5499834 , 0.51541461, 0.78580393, 0.73983239, 0.65365802,\n",
       "       0.50749082, 0.50473172, 0.21199737, 0.30476718, 0.01501243,\n",
       "       0.12144366, 0.63430825, 0.91342605, 0.36839285, 0.07639815,\n",
       "       0.27750512, 0.75887832, 0.62409255, 0.17271377, 0.36803362,\n",
       "       0.48712161, 0.73272324, 0.56386923, 0.33128946, 0.23431054,\n",
       "       0.01154248, 0.16661227, 0.83831038, 0.39852486, 0.53326658,\n",
       "       0.47185147, 0.36889204, 0.87960381, 0.11595441, 0.24865615])"
      ]
     },
     "execution_count": 74,
     "metadata": {},
     "output_type": "execute_result"
    }
   ],
   "source": [
    "massive_array[:100]"
   ]
  },
  {
   "cell_type": "code",
   "execution_count": 75,
   "id": "documentary-cover",
   "metadata": {},
   "outputs": [
    {
     "name": "stdout",
     "output_type": "stream",
     "text": [
      "1.86 ms ± 195 µs per loop (mean ± std. dev. of 7 runs, 100 loops each)\n",
      "9.23 µs ± 93.7 ns per loop (mean ± std. dev. of 7 runs, 100000 loops each)\n"
     ]
    }
   ],
   "source": [
    "%timeit  sum(massive_array) #Python's sum()\n",
    "%timeit np.sum(massive_array) #NumPy's sum()"
   ]
  },
  {
   "cell_type": "code",
   "execution_count": 76,
   "id": "female-supplement",
   "metadata": {},
   "outputs": [
    {
     "data": {
      "text/plain": [
       "2.581988897471611"
      ]
     },
     "execution_count": 76,
     "metadata": {},
     "output_type": "execute_result"
    }
   ],
   "source": [
    "np.std(a2)"
   ]
  },
  {
   "cell_type": "code",
   "execution_count": 77,
   "id": "corrected-county",
   "metadata": {},
   "outputs": [
    {
     "data": {
      "text/plain": [
       "6.666666666666667"
      ]
     },
     "execution_count": 77,
     "metadata": {},
     "output_type": "execute_result"
    }
   ],
   "source": [
    "np.var(a2)"
   ]
  },
  {
   "cell_type": "code",
   "execution_count": 79,
   "id": "exotic-flour",
   "metadata": {},
   "outputs": [
    {
     "data": {
      "text/plain": [
       "2.581988897471611"
      ]
     },
     "execution_count": 79,
     "metadata": {},
     "output_type": "execute_result"
    }
   ],
   "source": [
    "# Standard deviation = squareroot of variance \n",
    "np.sqrt(np.var(a2))"
   ]
  },
  {
   "cell_type": "markdown",
   "id": "destroyed-madagascar",
   "metadata": {},
   "source": [
    "## Reshaping & Trasposiong `"
   ]
  },
  {
   "cell_type": "code",
   "execution_count": 26,
   "id": "compound-trauma",
   "metadata": {},
   "outputs": [
    {
     "data": {
      "text/plain": [
       "array([[1. , 2. , 3.3],\n",
       "       [4. , 5. , 6. ]])"
      ]
     },
     "execution_count": 26,
     "metadata": {},
     "output_type": "execute_result"
    }
   ],
   "source": [
    "a2 = np.array([[1,2,3.3],[4,5,6]])\n",
    "a2"
   ]
  },
  {
   "cell_type": "code",
   "execution_count": 15,
   "id": "qualified-finance",
   "metadata": {},
   "outputs": [
    {
     "data": {
      "text/plain": [
       "(2, 3)"
      ]
     },
     "execution_count": 15,
     "metadata": {},
     "output_type": "execute_result"
    }
   ],
   "source": [
    "a2.shape"
   ]
  },
  {
   "cell_type": "code",
   "execution_count": 33,
   "id": "appointed-constitutional",
   "metadata": {},
   "outputs": [],
   "source": [
    "a3 = np.array([[[1,2,3],\n",
    "                [4,5,6],\n",
    "                [7,8,9]],\n",
    "              [[10,11,12],\n",
    "                [13,14,15],\n",
    "              [16,17,18]]])"
   ]
  },
  {
   "cell_type": "code",
   "execution_count": 35,
   "id": "vietnamese-tobacco",
   "metadata": {},
   "outputs": [
    {
     "data": {
      "text/plain": [
       "(2, 3, 3)"
      ]
     },
     "execution_count": 35,
     "metadata": {},
     "output_type": "execute_result"
    }
   ],
   "source": [
    "a3.shape"
   ]
  },
  {
   "cell_type": "code",
   "execution_count": 34,
   "id": "frozen-chicago",
   "metadata": {},
   "outputs": [
    {
     "ename": "ValueError",
     "evalue": "operands could not be broadcast together with shapes (2,3) (2,3,3) ",
     "output_type": "error",
     "traceback": [
      "\u001b[0;31m---------------------------------------------------------------------------\u001b[0m",
      "\u001b[0;31mValueError\u001b[0m                                Traceback (most recent call last)",
      "\u001b[0;32m<ipython-input-34-62eeaae4b56f>\u001b[0m in \u001b[0;36m<module>\u001b[0;34m\u001b[0m\n\u001b[0;32m----> 1\u001b[0;31m \u001b[0ma2\u001b[0m \u001b[0;34m*\u001b[0m \u001b[0ma3\u001b[0m\u001b[0;34m\u001b[0m\u001b[0;34m\u001b[0m\u001b[0m\n\u001b[0m",
      "\u001b[0;31mValueError\u001b[0m: operands could not be broadcast together with shapes (2,3) (2,3,3) "
     ]
    }
   ],
   "source": [
    "a2 * a3 "
   ]
  },
  {
   "cell_type": "code",
   "execution_count": 39,
   "id": "premium-singles",
   "metadata": {},
   "outputs": [
    {
     "data": {
      "text/plain": [
       "(2, 3, 1)"
      ]
     },
     "execution_count": 39,
     "metadata": {},
     "output_type": "execute_result"
    }
   ],
   "source": [
    "a2.reshape(2,3,1).shape"
   ]
  },
  {
   "cell_type": "code",
   "execution_count": 40,
   "id": "adopted-movie",
   "metadata": {},
   "outputs": [
    {
     "data": {
      "text/plain": [
       "(2, 3, 3)"
      ]
     },
     "execution_count": 40,
     "metadata": {},
     "output_type": "execute_result"
    }
   ],
   "source": [
    "a3.shape"
   ]
  },
  {
   "cell_type": "code",
   "execution_count": 42,
   "id": "cellular-happening",
   "metadata": {},
   "outputs": [
    {
     "data": {
      "text/plain": [
       "array([[[  1. ,   2. ,   3. ],\n",
       "        [  8. ,  10. ,  12. ],\n",
       "        [ 23.1,  26.4,  29.7]],\n",
       "\n",
       "       [[ 40. ,  44. ,  48. ],\n",
       "        [ 65. ,  70. ,  75. ],\n",
       "        [ 96. , 102. , 108. ]]])"
      ]
     },
     "execution_count": 42,
     "metadata": {},
     "output_type": "execute_result"
    }
   ],
   "source": [
    "a2_reshape = a2.reshape(2,3,1)\n",
    "a2_reshape * a3"
   ]
  },
  {
   "cell_type": "code",
   "execution_count": null,
   "id": "japanese-frontier",
   "metadata": {},
   "outputs": [],
   "source": []
  }
 ],
 "metadata": {
  "kernelspec": {
   "display_name": "Python 3",
   "language": "python",
   "name": "python3"
  },
  "language_info": {
   "codemirror_mode": {
    "name": "ipython",
    "version": 3
   },
   "file_extension": ".py",
   "mimetype": "text/x-python",
   "name": "python",
   "nbconvert_exporter": "python",
   "pygments_lexer": "ipython3",
   "version": "3.8.5"
  }
 },
 "nbformat": 4,
 "nbformat_minor": 5
}
